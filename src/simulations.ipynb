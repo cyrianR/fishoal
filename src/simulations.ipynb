{
 "cells": [
  {
   "cell_type": "markdown",
   "metadata": {},
   "source": [
    "# Fishoal project - ENSEEIHT\n",
    "\n",
    "Shoal of fish modelisation with different behaviors\n"
   ]
  },
  {
   "cell_type": "code",
   "execution_count": 1,
   "metadata": {},
   "outputs": [],
   "source": [
    "from mpl_toolkits.mplot3d import Axes3D\n",
    "from IPython.display import HTML\n",
    "import matplotlib.pyplot as plt\n",
    "import matplotlib.animation as animation\n",
    "from matplotlib.offsetbox import OffsetImage, AnnotationBbox\n",
    "import numpy as np\n",
    "\n",
    "from fishes import Fish\n",
    "from aquarium import Aquarium2D, AquariumKDTree2D, Aquarium3D, AquariumKDTree2D, AquariumKDTree3D\n",
    "from behaviors import StraightToroidalBehavior, StraightReboundBehavior, StraightVariableReboundBehavior, RandomBehavior, TrafalgarBehavior, AokiBehavior\n",
    "\n",
    "%matplotlib widget"
   ]
  },
  {
   "cell_type": "code",
   "execution_count": 2,
   "metadata": {},
   "outputs": [],
   "source": [
    "## SIMULATION PARAMETERS\n",
    "frame_delay = 10                            # delay between frames in ms\n",
    "dt_simu = 2                                 # time step of simulation in ms\n",
    "width = 1000                                # width of aquarium\n",
    "height = 1000                               # height of aquarium \n",
    "depth = 1000                                # depth of aquarium (only for 3D simulation)\n",
    "nb_fish = 100                                # number of fishes in simulation\n",
    "fish_color = \"orange\"                       # color of fishes  \n",
    "\n",
    "steve_orange_img = plt.imread(\"./../ressources/steve_orange.png\")\n",
    "steve_red_img = plt.imread(\"./../ressources/steve_red.png\")\n",
    "steve_green_img = plt.imread(\"./../ressources/steve_green.png\")"
   ]
  },
  {
   "cell_type": "markdown",
   "metadata": {},
   "source": [
    "# PART I : Random behavior\n",
    "\n",
    "## Version 1 : Random initial position and velocity with rebound\n",
    "\n",
    "Fishes are added with random position and random velocity vector (normalized). They move straight at constant speed and rebound on aquarium edges."
   ]
  },
  {
   "cell_type": "markdown",
   "metadata": {},
   "source": [
    "### 2D"
   ]
  },
  {
   "cell_type": "code",
   "execution_count": 3,
   "metadata": {},
   "outputs": [],
   "source": [
    "# Create the fishes in a 2D aquarium \n",
    "aquarium = Aquarium2D(width, height, nb_fish, dt_simu)\n",
    "for i in range(0, nb_fish):\n",
    "    position = np.random.rand(2) * [width, height]\n",
    "    velocity = (np.random.rand(2) * 2 - 1)\n",
    "    velocity /= np.linalg.norm(velocity)\n",
    "    behavior = StraightReboundBehavior(aquarium)\n",
    "    fish = Fish(position, velocity, fish_color, behavior)\n",
    "    aquarium.put_fish(i, fish)"
   ]
  },
  {
   "cell_type": "markdown",
   "metadata": {},
   "source": [
    "### 3D"
   ]
  },
  {
   "cell_type": "code",
   "execution_count": 6,
   "metadata": {},
   "outputs": [],
   "source": [
    "# Create the fishes in a 3D aquarium \n",
    "aquarium = Aquarium3D(width, height, depth, nb_fish, dt_simu)\n",
    "for i in range(0, nb_fish):\n",
    "    position = np.random.rand(3) * [width, height, depth]\n",
    "    velocity = (np.random.rand(3) * 2 - 1)\n",
    "    velocity /= np.linalg.norm(velocity)\n",
    "    behavior = StraightVariableReboundBehavior(aquarium, np.pi/2, 50)\n",
    "    fish = Fish(position, velocity, fish_color, behavior)\n",
    "    aquarium.put_fish(i, fish)"
   ]
  },
  {
   "cell_type": "markdown",
   "metadata": {},
   "source": [
    "## Version 2 : Random initial position and velocity with toroidal behavior\n",
    "\n",
    "Fishes are added with random position and random velocity vector (normalized). They move straight at constant speed and have toroidal behavior on aquarium edges."
   ]
  },
  {
   "cell_type": "markdown",
   "metadata": {},
   "source": [
    "### 2D"
   ]
  },
  {
   "cell_type": "code",
   "execution_count": 3,
   "metadata": {},
   "outputs": [],
   "source": [
    "# Create the fishes in a 2D aquarium \n",
    "aquarium = Aquarium2D(width, height, nb_fish, dt_simu)\n",
    "for i in range(0, nb_fish):\n",
    "    position = np.random.rand(2) * [width, height]\n",
    "    velocity = (np.random.rand(2) * 2 - 1)\n",
    "    velocity /= np.linalg.norm(velocity)\n",
    "    behavior = StraightToroidalBehavior(aquarium)\n",
    "    fish = Fish(position, velocity, fish_color, behavior)\n",
    "    aquarium.put_fish(i, fish)"
   ]
  },
  {
   "cell_type": "markdown",
   "metadata": {},
   "source": [
    "### 3D"
   ]
  },
  {
   "cell_type": "code",
   "execution_count": 9,
   "metadata": {},
   "outputs": [],
   "source": [
    "# Create the fishes in a 3D aquarium \n",
    "aquarium = Aquarium3D(width, height, depth, nb_fish, dt_simu)\n",
    "for i in range(0, nb_fish):\n",
    "    position = np.random.rand(3) * [width, height, depth]\n",
    "    velocity = (np.random.rand(3) * 2 - 1)\n",
    "    velocity /= np.linalg.norm(velocity)\n",
    "    behavior = StraightToroidalBehavior(aquarium)\n",
    "    fish = Fish(position, velocity, fish_color, behavior)\n",
    "    aquarium.put_fish(i, fish)"
   ]
  },
  {
   "cell_type": "markdown",
   "metadata": {},
   "source": [
    "## Version 3 : Random changes of velocity and direction\n",
    "\n",
    "Fishes are added with random position and random velocity vector (normalized). They move straight at constant speed but can change direction with a certain probability. They rebound on aquarium edges."
   ]
  },
  {
   "cell_type": "markdown",
   "metadata": {},
   "source": [
    "### 2D"
   ]
  },
  {
   "cell_type": "code",
   "execution_count": 5,
   "metadata": {},
   "outputs": [],
   "source": [
    "direction_change_prob = 0.1\n",
    "\n",
    "# Create the fishes in a 2D aquarium\n",
    "aquarium = Aquarium2D(width, height, nb_fish, dt_simu)\n",
    "for i in range(0, nb_fish):\n",
    "    position = np.random.rand(2) * [width, height]\n",
    "    velocity = (np.random.rand(2) * 2 - 1)\n",
    "    velocity /= np.linalg.norm(velocity)\n",
    "    behavior = RandomBehavior(aquarium, direction_change_prob)\n",
    "    fish = Fish(position, velocity, fish_color, behavior)\n",
    "    aquarium.put_fish(i, fish)"
   ]
  },
  {
   "cell_type": "markdown",
   "metadata": {},
   "source": [
    "### 3D"
   ]
  },
  {
   "cell_type": "code",
   "execution_count": 3,
   "metadata": {},
   "outputs": [],
   "source": [
    "direction_change_prob = 0.1\n",
    "\n",
    "# Create the fishes in a 3D aquarium\n",
    "aquarium = Aquarium3D(width, height, depth, nb_fish, dt_simu)\n",
    "for i in range(0, nb_fish):\n",
    "    position = np.random.rand(3) * [width, height, depth]\n",
    "    velocity = (np.random.rand(3) * 2 - 1)\n",
    "    velocity /= np.linalg.norm(velocity)\n",
    "    behavior = RandomBehavior(aquarium, direction_change_prob)\n",
    "    fish = Fish(position, velocity, fish_color, behavior)\n",
    "    aquarium.put_fish(i, fish)"
   ]
  },
  {
   "cell_type": "markdown",
   "metadata": {},
   "source": [
    "# PART II : Behavior propagation : Trafalgar effect\n",
    "\n",
    "Fishes are added with random position and random velocity vector (normalized). They move globally straight at constant speed but have slight variations from their base velocity to make them more real. The fishes rebound on aquarium edges.\n",
    "\n",
    "A leader is chosen and has it's own behavior which is an amelioration of the **StraightReboundBehavior** called **StraightVariableReboundBehavior** for making it more real.\n",
    "\n",
    "The other fishes can become contaminated when they are too close to the leader or another contaminated fish. When it happens, their base velocity becomes the same as the base velocity of the leader."
   ]
  },
  {
   "cell_type": "markdown",
   "metadata": {},
   "source": [
    "### 2D"
   ]
  },
  {
   "cell_type": "code",
   "execution_count": 12,
   "metadata": {},
   "outputs": [],
   "source": [
    "max_angle_rand_variation = np.pi/12\n",
    "delay_rand_variation = 50\n",
    "contamination_dist = 10\n",
    "delay_contamination = 5\n",
    "contaminated_color = \"green\"\n",
    "\n",
    "# Create the fishes in a 2D aquarium\n",
    "aquarium = Aquarium2D(width, height, nb_fish, dt_simu)\n",
    "\n",
    "# Create the leader fish\n",
    "leader_behavior = StraightVariableReboundBehavior(\n",
    "    aquarium,\n",
    "    max_angle_rand_variation,\n",
    "    delay_rand_variation)\n",
    "velocity = (np.random.rand(2) * 2 - 1)\n",
    "velocity /= np.linalg.norm(velocity)\n",
    "position = np.random.rand(2) * [width, height]\n",
    "fish_leader = Fish(position, velocity, \"red\", leader_behavior, steve_red_img)\n",
    "aquarium.put_fish(0, fish_leader)\n",
    "\n",
    "# Create the follower fishes\n",
    "for i in range(1, nb_fish):\n",
    "    position = np.random.rand(2) * [width, height]\n",
    "    velocity = (np.random.rand(2) * 2 - 1)\n",
    "    velocity /= np.linalg.norm(velocity)\n",
    "    trafalgar_behavior = TrafalgarBehavior(\n",
    "        aquarium,\n",
    "        fish_leader,\n",
    "        contamination_dist,\n",
    "        max_angle_rand_variation,\n",
    "        delay_rand_variation,\n",
    "        delay_contamination,\n",
    "        contaminated_color,\n",
    "        contaminated_img=steve_green_img)\n",
    "    fish = Fish(position, velocity, fish_color, trafalgar_behavior, steve_orange_img)\n",
    "    aquarium.put_fish(i, fish)"
   ]
  },
  {
   "cell_type": "markdown",
   "metadata": {},
   "source": [
    "### 3D"
   ]
  },
  {
   "cell_type": "code",
   "execution_count": 14,
   "metadata": {},
   "outputs": [],
   "source": [
    "max_angle_rand_variation = np.pi/12\n",
    "delay_rand_variation = 50\n",
    "contamination_dist = 80\n",
    "delay_contamination = 5\n",
    "contaminated_color = \"green\"\n",
    "\n",
    "# Create the fishes in a 2D aquarium\n",
    "aquarium = Aquarium3D(width, height, depth, nb_fish, dt_simu)\n",
    "\n",
    "# Create the leader fish\n",
    "leader_behavior = StraightVariableReboundBehavior(\n",
    "    aquarium,\n",
    "    max_angle_rand_variation,\n",
    "    delay_rand_variation)\n",
    "velocity = (np.random.rand(3) * 2 - 1)\n",
    "velocity /= np.linalg.norm(velocity)\n",
    "position = np.random.rand(3) * [width, height, depth]\n",
    "fish_leader = Fish(position, velocity, \"red\", leader_behavior, steve_red_img)\n",
    "aquarium.put_fish(0, fish_leader)\n",
    "\n",
    "# Create the follower fishes\n",
    "for i in range(1, nb_fish):\n",
    "    position = np.random.rand(3) * [width, height, depth]\n",
    "    velocity = (np.random.rand(3) * 2 - 1)\n",
    "    velocity /= np.linalg.norm(velocity)\n",
    "    trafalgar_behavior = TrafalgarBehavior(\n",
    "        aquarium,\n",
    "        fish_leader,\n",
    "        contamination_dist,\n",
    "        max_angle_rand_variation,\n",
    "        delay_rand_variation,\n",
    "        delay_contamination,\n",
    "        contaminated_color,\n",
    "        contaminated_img=steve_green_img)\n",
    "    fish = Fish(position, velocity, fish_color, trafalgar_behavior, steve_orange_img)\n",
    "    aquarium.put_fish(i, fish)"
   ]
  },
  {
   "cell_type": "markdown",
   "metadata": {},
   "source": [
    "# PART III : Aoki's behavior rules\n",
    "\n"
   ]
  },
  {
   "cell_type": "markdown",
   "metadata": {},
   "source": [
    "### 2D"
   ]
  },
  {
   "cell_type": "code",
   "execution_count": 3,
   "metadata": {},
   "outputs": [],
   "source": [
    "r_repulsion = 25\n",
    "r_alignement = 30\n",
    "r_attraction = 40\n",
    "k_repulsion = 1\n",
    "k_attraction = 0.005\n",
    "\n",
    "# Create the fishes in a 2D aquarium\n",
    "aquarium = AquariumKDTree2D(width, height, nb_fish, dt_simu)\n",
    "for i in range(0, nb_fish):\n",
    "    position = np.random.rand(2) * [width, height]\n",
    "    velocity = (np.random.rand(2) * 2 - 1)\n",
    "    velocity /= np.linalg.norm(velocity)\n",
    "    aoki_behavior = AokiBehavior(aquarium, r_repulsion, r_alignement, r_attraction, k_repulsion, k_attraction)\n",
    "    fish = Fish(position, velocity, fish_color, aoki_behavior)\n",
    "    aquarium.put_fish(i, fish)"
   ]
  },
  {
   "cell_type": "markdown",
   "metadata": {},
   "source": [
    "### 3D"
   ]
  },
  {
   "cell_type": "code",
   "execution_count": 7,
   "metadata": {},
   "outputs": [],
   "source": [
    "r_repulsion = 25\n",
    "r_alignement = 30\n",
    "r_attraction = 40\n",
    "k_repulsion = 1\n",
    "k_attraction = 1\n",
    "\n",
    "# Create the fishes in a 2D aquarium\n",
    "aquarium = AquariumKDTree3D(width, height, depth, nb_fish, dt_simu)\n",
    "for i in range(0, nb_fish):\n",
    "    position = np.random.rand(3) * [width, height, depth]\n",
    "    velocity = (np.random.rand(3) * 2 - 1)\n",
    "    velocity /= np.linalg.norm(velocity)\n",
    "    aoki_behavior = AokiBehavior(aquarium, r_repulsion, r_alignement, r_attraction, k_repulsion, k_attraction)\n",
    "    fish = Fish(position, velocity, fish_color, aoki_behavior)\n",
    "    aquarium.put_fish(i, fish)"
   ]
  },
  {
   "cell_type": "markdown",
   "metadata": {},
   "source": [
    "# Vizualization of the simulation in 2D or 3D\n",
    "\n",
    "## 2D"
   ]
  },
  {
   "cell_type": "code",
   "execution_count": null,
   "metadata": {},
   "outputs": [],
   "source": [
    "# Launch the simulation in 2D\n",
    "fig, ax = plt.subplots()\n",
    "xs = [fish.position[0] for fish in aquarium.fishes]\n",
    "ys = [fish.position[1] for fish in aquarium.fishes]\n",
    "points = ax.scatter(xs, ys, marker='o', c=fish_color)\n",
    "ax.set_xlim(0, width)\n",
    "ax.set_ylim(0, height)\n",
    "\n",
    "def update(data):\n",
    "    ys, xs, fish_colors = data\n",
    "    points.set_offsets(np.c_[xs, ys])\n",
    "    points.set_color(fish_colors)\n",
    "    return points\n",
    "\n",
    "def generate_points():\n",
    "    while True:\n",
    "        aquarium.update_all()\n",
    "        xs = [fish.position[0] for fish in aquarium.fishes]\n",
    "        ys = [fish.position[1] for fish in aquarium.fishes]\n",
    "        fish_colors = [fish.color for fish in aquarium.fishes]\n",
    "        yield (ys, xs, fish_colors)\n",
    "\n",
    "anim = animation.FuncAnimation(fig, update, generate_points, interval=frame_delay, cache_frame_data=False)\n",
    "plt.show()"
   ]
  },
  {
   "cell_type": "markdown",
   "metadata": {},
   "source": [
    "## 3D"
   ]
  },
  {
   "cell_type": "code",
   "execution_count": null,
   "metadata": {},
   "outputs": [],
   "source": [
    "# Launch the simulation in 3D\n",
    "xs = [fish.position[0] for fish in aquarium.fishes]\n",
    "ys = [fish.position[1] for fish in aquarium.fishes]\n",
    "zs = [fish.position[2] for fish in aquarium.fishes]\n",
    "\n",
    "fig = plt.figure()\n",
    "ax = fig.add_subplot(111, projection='3d')\n",
    "ax.set_xlim(0, width)\n",
    "ax.set_ylim(0, height)\n",
    "ax.set_zlim(0, depth)\n",
    "\n",
    "points = ax.scatter(xs, ys, zs, marker='o', c=fish_color, s=50)\n",
    "\n",
    "def update(data):\n",
    "    ys, xs, zs, fish_colors = data\n",
    "    points._offsets3d = (xs, ys, zs)\n",
    "    points.set_color(fish_colors)\n",
    "    return points\n",
    "\n",
    "def generate_points():\n",
    "    while True:\n",
    "        aquarium.update_all()\n",
    "        xs = [fish.position[0] for fish in aquarium.fishes]\n",
    "        ys = [fish.position[1] for fish in aquarium.fishes]\n",
    "        zs = [fish.position[2] for fish in aquarium.fishes]\n",
    "        fish_colors = [fish.color for fish in aquarium.fishes]\n",
    "        yield (ys, xs, zs, fish_colors)\n",
    "\n",
    "anim = animation.FuncAnimation(fig, update, generate_points, interval=frame_delay, cache_frame_data=False)\n",
    "plt.show()"
   ]
  },
  {
   "cell_type": "markdown",
   "metadata": {},
   "source": [
    "# FUNNY STEVE BONUS\n",
    "\n",
    "\"Steve, OuuOuOouuOOu, le poisson steve, il est oraaannnnngeee\"\n",
    "\n",
    "Here is a funny simulation with Trafalgar behavior but with images instead of points.\n",
    "It is super slow so take your time."
   ]
  },
  {
   "cell_type": "code",
   "execution_count": null,
   "metadata": {},
   "outputs": [],
   "source": [
    "# Parameters\n",
    "save_path = \"./../results/simulation_steve.mp4\"\n",
    "save_result = False\n",
    "max_angle_rand_variation = np.pi/12\n",
    "delay_rand_variation = 50\n",
    "contamination_dist = 30\n",
    "delay_contamination = 5\n",
    "contaminated_color = \"green\"\n",
    "\n",
    "# Create the fishes in a 2D aquarium\n",
    "aquarium = Aquarium2D(width, height, nb_fish, dt_simu)\n",
    "\n",
    "# Create the leader fish with random initial position and velocity\n",
    "leader_behavior = StraightVariableReboundBehavior(\n",
    "    aquarium,\n",
    "    max_angle_rand_variation,\n",
    "    delay_rand_variation)\n",
    "velocity = (np.random.rand(2) * 2 - 1)\n",
    "velocity /= np.linalg.norm(velocity)\n",
    "position = np.random.rand(2) * [width, height]\n",
    "fish_leader = Fish(position, velocity, \"red\", leader_behavior, steve_red_img)\n",
    "aquarium.put_fish(0, fish_leader)\n",
    "\n",
    "# Create the follower fishes with random initial position and velocity\n",
    "for i in range(1, nb_fish):\n",
    "    position = np.random.rand(2) * [width, height]\n",
    "    velocity = (np.random.rand(2) * 2 - 1)\n",
    "    velocity /= np.linalg.norm(velocity)\n",
    "    trafalgar_behavior = TrafalgarBehavior(\n",
    "        aquarium,\n",
    "        fish_leader,\n",
    "        contamination_dist,\n",
    "        max_angle_rand_variation,\n",
    "        delay_rand_variation,\n",
    "        delay_contamination,\n",
    "        contaminated_color,\n",
    "        contaminated_img=steve_green_img)\n",
    "    fish = Fish(position, velocity, fish_color, trafalgar_behavior, steve_orange_img)\n",
    "    aquarium.put_fish(i, fish)\n",
    "\n",
    "# Launch the simulation in 2D\n",
    "fig, ax = plt.subplots()\n",
    "ax.set_xlim(0, width)\n",
    "ax.set_ylim(0, height)\n",
    "\n",
    "fish_boxes = []\n",
    "for fish in aquarium.fishes:\n",
    "    image_box = OffsetImage(fish.image, zoom=0.05)\n",
    "    ab = AnnotationBbox(image_box, (fish.position[0], fish.position[1]), frameon=False)\n",
    "    ax.add_artist(ab)\n",
    "    fish_boxes.append(ab)\n",
    "\n",
    "def update(data):\n",
    "    xs, ys, fish_images = data\n",
    "    for i, ab in enumerate(fish_boxes):\n",
    "        ab.offsetbox = OffsetImage(fish_images[i], zoom=0.05)\n",
    "        ab.xy = (xs[i], ys[i])\n",
    "        ab.xybox = (xs[i], ys[i])\n",
    "    return fish_boxes\n",
    "\n",
    "def generate_points():\n",
    "    while True:\n",
    "        aquarium.update_all()\n",
    "        xs = [fish.position[0] for fish in aquarium.fishes]\n",
    "        ys = [fish.position[1] for fish in aquarium.fishes]\n",
    "        fish_images = [fish.image for fish in aquarium.fishes]\n",
    "        yield (xs, ys, fish_images)\n",
    "\n",
    "ani = animation.FuncAnimation(fig, update, generate_points, interval=frame_delay, cache_frame_data=False, blit=False)\n",
    "plt.show()\n",
    "\n",
    "if save_result:\n",
    "    ani.save(\"./../results/simulation_steve.mp4\", writer=\"ffmpeg\", fps=30)"
   ]
  }
 ],
 "metadata": {
  "kernelspec": {
   "display_name": ".venv",
   "language": "python",
   "name": "python3"
  },
  "language_info": {
   "codemirror_mode": {
    "name": "ipython",
    "version": 3
   },
   "file_extension": ".py",
   "mimetype": "text/x-python",
   "name": "python",
   "nbconvert_exporter": "python",
   "pygments_lexer": "ipython3",
   "version": "3.13.3"
  }
 },
 "nbformat": 4,
 "nbformat_minor": 2
}
